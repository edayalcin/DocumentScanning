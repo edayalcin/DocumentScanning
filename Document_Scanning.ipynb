{
 "cells": [
  {
   "cell_type": "code",
   "execution_count": 1,
   "id": "e2b9b064",
   "metadata": {},
   "outputs": [],
   "source": [
    "import cv2\n",
    "import numpy as np"
   ]
  },
  {
   "cell_type": "code",
   "execution_count": 2,
   "id": "1437ef61",
   "metadata": {},
   "outputs": [],
   "source": [
    "img = cv2.imread(\"IMG-2012.jpg\")\n",
    "img = cv2.resize(img, (int(480*2), int(640*2)))"
   ]
  },
  {
   "cell_type": "code",
   "execution_count": 3,
   "id": "a1353297",
   "metadata": {},
   "outputs": [],
   "source": [
    "gray_img = cv2.cvtColor(img, cv2.COLOR_BGR2GRAY)\n",
    "cv2.imshow(\"Gri Tonlama\", gray_img)\n",
    "cv2.waitKey(0)\n",
    "cv2.destroyAllWindows()"
   ]
  },
  {
   "cell_type": "code",
   "execution_count": 4,
   "id": "3d1cd787",
   "metadata": {},
   "outputs": [],
   "source": [
    "blurred_img = cv2.GaussianBlur(gray_img, (5, 5), 1)\n",
    "cv2.imshow(\"Blurlama\", blurred_img)\n",
    "cv2.waitKey(0)\n",
    "cv2.destroyAllWindows()"
   ]
  },
  {
   "cell_type": "code",
   "execution_count": 5,
   "id": "74d42543",
   "metadata": {},
   "outputs": [],
   "source": [
    "canny_img = cv2.Canny(blurred_img, 190, 190)\n",
    "cv2.imshow(\"Kenar Algilama\", canny_img)\n",
    "cv2.waitKey(0)\n",
    "cv2.destroyAllWindows()"
   ]
  },
  {
   "cell_type": "code",
   "execution_count": 6,
   "id": "45e39a17",
   "metadata": {},
   "outputs": [],
   "source": [
    "contours, _ = cv2.findContours(canny_img, cv2.RETR_EXTERNAL, cv2.CHAIN_APPROX_SIMPLE)"
   ]
  },
  {
   "cell_type": "code",
   "execution_count": 7,
   "id": "e534bc1f",
   "metadata": {},
   "outputs": [],
   "source": [
    "max_area = 0\n",
    "best_corners = None\n",
    "for contour in contours:\n",
    "    area = cv2.contourArea(contour)\n",
    "    if area > 500:\n",
    "        peri = cv2.arcLength(contour, True)\n",
    "        approx = cv2.approxPolyDP(contour, 0.02 * peri, True)\n",
    "        if len(approx) == 4 and area > max_area:\n",
    "            max_area = area\n",
    "            best_corners = approx\n"
   ]
  },
  {
   "cell_type": "code",
   "execution_count": 8,
   "id": "cba14c85",
   "metadata": {},
   "outputs": [
    {
     "data": {
      "text/plain": [
       "array([[[150, 176, 183],\n",
       "        [155, 181, 187],\n",
       "        [158, 184, 189],\n",
       "        ...,\n",
       "        [181, 201, 206],\n",
       "        [174, 194, 200],\n",
       "        [181, 201, 206]],\n",
       "\n",
       "       [[155, 181, 187],\n",
       "        [156, 181, 188],\n",
       "        [156, 182, 188],\n",
       "        ...,\n",
       "        [182, 202, 208],\n",
       "        [171, 191, 196],\n",
       "        [179, 199, 204]],\n",
       "\n",
       "       [[156, 182, 188],\n",
       "        [153, 179, 185],\n",
       "        [151, 177, 183],\n",
       "        ...,\n",
       "        [181, 201, 206],\n",
       "        [185, 205, 210],\n",
       "        [182, 202, 207]],\n",
       "\n",
       "       ...,\n",
       "\n",
       "       [[ 33,  43,  43],\n",
       "        [ 32,  42,  42],\n",
       "        [ 26,  36,  36],\n",
       "        ...,\n",
       "        [185, 204, 209],\n",
       "        [186, 205, 210],\n",
       "        [185, 204, 209]],\n",
       "\n",
       "       [[ 38,  48,  48],\n",
       "        [ 33,  43,  43],\n",
       "        [ 30,  40,  40],\n",
       "        ...,\n",
       "        [186, 205, 210],\n",
       "        [184, 203, 208],\n",
       "        [186, 205, 210]],\n",
       "\n",
       "       [[ 36,  46,  46],\n",
       "        [ 42,  52,  52],\n",
       "        [ 57,  67,  67],\n",
       "        ...,\n",
       "        [184, 203, 208],\n",
       "        [184, 203, 208],\n",
       "        [180, 199, 204]]], dtype=uint8)"
      ]
     },
     "execution_count": 8,
     "metadata": {},
     "output_type": "execute_result"
    }
   ],
   "source": [
    "contour_frame = img.copy()\n",
    "cv2.drawContours(contour_frame, [best_corners], -1, (0, 255, 0), 2)"
   ]
  },
  {
   "cell_type": "code",
   "execution_count": 9,
   "id": "7ca32fa5",
   "metadata": {},
   "outputs": [],
   "source": [
    "if best_corners is not None:\n",
    "    # Köşeleri düzeltme için sıralama\n",
    "    best_corners = np.squeeze(best_corners)\n",
    "    ordered_corners = np.zeros((4, 2), dtype=np.float32)\n",
    "    sum_of_coordinates = np.sum(best_corners, axis=1)\n",
    "    ordered_corners[0] = best_corners[np.argmin(sum_of_coordinates)]\n",
    "    ordered_corners[2] = best_corners[np.argmax(sum_of_coordinates)]\n",
    "    diff_of_coordinates = np.diff(best_corners, axis=1)\n",
    "    ordered_corners[1] = best_corners[np.argmin(diff_of_coordinates)]\n",
    "    ordered_corners[3] = best_corners[np.argmax(diff_of_coordinates)]\n",
    "\n",
    "    # Düzleştirme işlemi\n",
    "    width, height = 480, 640\n",
    "    target_corners = np.float32([[0, 0], [width - 1, 0], [width - 1, height - 1], [0, height - 1]])\n",
    "    transform_matrix = cv2.getPerspectiveTransform(ordered_corners, target_corners)\n",
    "    scanned_img = cv2.warpPerspective(img, transform_matrix, (width, height))\n",
    "\n",
    "    # Görüntüleri gösterme\n",
    "    cv2.imshow(\"Orijinal Resim\", img)\n",
    "    cv2.imshow(\"Taratilan Resim\", scanned_img)\n",
    "    cv2.waitKey(0)\n",
    "    cv2.destroyAllWindows()\n",
    "else:\n",
    "    print(\"Belge bulunamadı.\")"
   ]
  }
 ],
 "metadata": {
  "kernelspec": {
   "display_name": "Python 3 (ipykernel)",
   "language": "python",
   "name": "python3"
  },
  "language_info": {
   "codemirror_mode": {
    "name": "ipython",
    "version": 3
   },
   "file_extension": ".py",
   "mimetype": "text/x-python",
   "name": "python",
   "nbconvert_exporter": "python",
   "pygments_lexer": "ipython3",
   "version": "3.9.7"
  }
 },
 "nbformat": 4,
 "nbformat_minor": 5
}
